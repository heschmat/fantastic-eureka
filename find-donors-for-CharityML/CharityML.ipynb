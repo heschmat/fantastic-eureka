{
 "cells": [
  {
   "cell_type": "markdown",
   "id": "possible-planning",
   "metadata": {},
   "source": [
    "# Finding Donors for CharityML"
   ]
  },
  {
   "cell_type": "markdown",
   "id": "stretch-wrapping",
   "metadata": {},
   "source": [
    "<font color='blue'>TASK: to accurately model individuals' income using data collected from the 1994 U.S. Census.</font>"
   ]
  },
  {
   "cell_type": "markdown",
   "id": "permanent-rally",
   "metadata": {},
   "source": [
    "We'd like to construct a model that accurately predicts whether an individual makes more than $50,000. This sort of task can arise in a non-profit setting, where organizations survive on donations. Understanding an individual's income (or which income category they belong to) can help a non-profit better understand how large of a donation to request, or whether or not they should reach out to begin with."
   ]
  },
  {
   "cell_type": "code",
   "execution_count": null,
   "id": "hispanic-format",
   "metadata": {},
   "outputs": [],
   "source": []
  },
  {
   "cell_type": "markdown",
   "id": "prostate-machine",
   "metadata": {},
   "source": [
    "## <font color='blue'>Import libraries & read data</font>"
   ]
  },
  {
   "cell_type": "code",
   "execution_count": 2,
   "id": "adverse-thesis",
   "metadata": {},
   "outputs": [],
   "source": [
    "import numpy as np\n",
    "import pandas as pd\n",
    "\n",
    "import matplotlib.pyplot as plt\n",
    "plt.style.use('fivethirtyeight')"
   ]
  },
  {
   "cell_type": "code",
   "execution_count": null,
   "id": "alpha-bridges",
   "metadata": {},
   "outputs": [],
   "source": [
    "from sklearn.model_selection import train_test_split"
   ]
  },
  {
   "cell_type": "code",
   "execution_count": 57,
   "id": "metallic-arizona",
   "metadata": {},
   "outputs": [],
   "source": [
    "from sklearn.impute import SimpleImputer\n",
    "from sklearn.preprocessing import LabelEncoder\n",
    "from sklearn.preprocessing import OneHotEncoder\n",
    "\n",
    "from sklearn.preprocessing import MinMaxScaler"
   ]
  },
  {
   "cell_type": "code",
   "execution_count": 70,
   "id": "similar-flash",
   "metadata": {},
   "outputs": [],
   "source": [
    "from sklearn.compose import ColumnTransformer\n",
    "from sklearn.pipeline import Pipeline\n",
    "from sklearn.model_selection import cross_val_score"
   ]
  },
  {
   "cell_type": "code",
   "execution_count": 66,
   "id": "spread-attention",
   "metadata": {},
   "outputs": [],
   "source": [
    "from sklearn.ensemble import RandomForestClassifier"
   ]
  },
  {
   "cell_type": "code",
   "execution_count": 117,
   "id": "sized-trout",
   "metadata": {},
   "outputs": [],
   "source": [
    "from sklearn.metrics import confusion_matrix"
   ]
  },
  {
   "cell_type": "code",
   "execution_count": null,
   "id": "enclosed-angel",
   "metadata": {},
   "outputs": [],
   "source": []
  },
  {
   "cell_type": "code",
   "execution_count": 36,
   "id": "established-gospel",
   "metadata": {},
   "outputs": [
    {
     "data": {
      "text/plain": [
       "(45222, 15)"
      ]
     },
     "execution_count": 36,
     "metadata": {},
     "output_type": "execute_result"
    }
   ],
   "source": [
    "# Read the data\n",
    "df = pd.read_csv('./census_data.csv')\n",
    "df.shape"
   ]
  },
  {
   "cell_type": "code",
   "execution_count": 93,
   "id": "composed-cricket",
   "metadata": {},
   "outputs": [],
   "source": [
    "# Seperate features & the target variable\n",
    "y = df['income'] # target\n",
    "X = df.drop('income', axis= 1) # features"
   ]
  },
  {
   "cell_type": "code",
   "execution_count": 94,
   "id": "least-occupation",
   "metadata": {},
   "outputs": [],
   "source": [
    "# Convert `y` - the target variable - to binary values.\n",
    "y = np.array([0 if elm == '<=50K' else 1 for elm in y])"
   ]
  },
  {
   "cell_type": "code",
   "execution_count": null,
   "id": "dress-humor",
   "metadata": {},
   "outputs": [],
   "source": []
  },
  {
   "cell_type": "markdown",
   "id": "chubby-melissa",
   "metadata": {},
   "source": [
    "## <font color='blue'>Split data into train & test sets</font>"
   ]
  },
  {
   "cell_type": "code",
   "execution_count": 98,
   "id": "experimental-pipeline",
   "metadata": {},
   "outputs": [
    {
     "name": "stdout",
     "output_type": "stream",
     "text": [
      "Training set has 36177 samples.\n",
      "Testing set has 9045 samples.\n"
     ]
    }
   ],
   "source": [
    "# Split the 'features' and 'income' data into training and testing sets\n",
    "X_train, X_test, y_train, y_test = train_test_split(X, y,\n",
    "                                                    test_size = 0.2, \n",
    "                                                    random_state = 42)\n",
    "\n",
    "# Show the results of the split\n",
    "print(f'Training set has {X_train.shape[0]} samples.')\n",
    "print(f'Testing set has {X_test.shape[0]} samples.')"
   ]
  },
  {
   "cell_type": "code",
   "execution_count": 99,
   "id": "waiting-republic",
   "metadata": {},
   "outputs": [
    {
     "data": {
      "text/html": [
       "<div>\n",
       "<style scoped>\n",
       "    .dataframe tbody tr th:only-of-type {\n",
       "        vertical-align: middle;\n",
       "    }\n",
       "\n",
       "    .dataframe tbody tr th {\n",
       "        vertical-align: top;\n",
       "    }\n",
       "\n",
       "    .dataframe thead th {\n",
       "        text-align: right;\n",
       "    }\n",
       "</style>\n",
       "<table border=\"1\" class=\"dataframe\">\n",
       "  <thead>\n",
       "    <tr style=\"text-align: right;\">\n",
       "      <th></th>\n",
       "      <th>Unnamed: 0</th>\n",
       "      <th>age</th>\n",
       "      <th>workclass</th>\n",
       "      <th>education_level</th>\n",
       "      <th>education-num</th>\n",
       "      <th>marital-status</th>\n",
       "      <th>occupation</th>\n",
       "      <th>relationship</th>\n",
       "      <th>race</th>\n",
       "      <th>sex</th>\n",
       "      <th>capital-gain</th>\n",
       "      <th>capital-loss</th>\n",
       "      <th>hours-per-week</th>\n",
       "      <th>native-country</th>\n",
       "    </tr>\n",
       "  </thead>\n",
       "  <tbody>\n",
       "    <tr>\n",
       "      <th>7963</th>\n",
       "      <td>7963</td>\n",
       "      <td>32</td>\n",
       "      <td>Private</td>\n",
       "      <td>Bachelors</td>\n",
       "      <td>13.0</td>\n",
       "      <td>Never-married</td>\n",
       "      <td>Exec-managerial</td>\n",
       "      <td>Not-in-family</td>\n",
       "      <td>White</td>\n",
       "      <td>Female</td>\n",
       "      <td>0.0</td>\n",
       "      <td>0.0</td>\n",
       "      <td>40.0</td>\n",
       "      <td>United-States</td>\n",
       "    </tr>\n",
       "    <tr>\n",
       "      <th>26402</th>\n",
       "      <td>26402</td>\n",
       "      <td>-1</td>\n",
       "      <td>Private</td>\n",
       "      <td>Assoc-acdm</td>\n",
       "      <td>12.0</td>\n",
       "      <td>Married-civ-spouse</td>\n",
       "      <td>Craft-repair</td>\n",
       "      <td>Husband</td>\n",
       "      <td>White</td>\n",
       "      <td>Male</td>\n",
       "      <td>0.0</td>\n",
       "      <td>0.0</td>\n",
       "      <td>66.0</td>\n",
       "      <td>Yugoslavia</td>\n",
       "    </tr>\n",
       "    <tr>\n",
       "      <th>31411</th>\n",
       "      <td>31411</td>\n",
       "      <td>45</td>\n",
       "      <td>Self-emp-not-inc</td>\n",
       "      <td>11th</td>\n",
       "      <td>7.0</td>\n",
       "      <td>Married-civ-spouse</td>\n",
       "      <td>Craft-repair</td>\n",
       "      <td>Husband</td>\n",
       "      <td>White</td>\n",
       "      <td>Male</td>\n",
       "      <td>0.0</td>\n",
       "      <td>0.0</td>\n",
       "      <td>50.0</td>\n",
       "      <td>United-States</td>\n",
       "    </tr>\n",
       "  </tbody>\n",
       "</table>\n",
       "</div>"
      ],
      "text/plain": [
       "       Unnamed: 0  age          workclass education_level  education-num  \\\n",
       "7963         7963   32            Private       Bachelors           13.0   \n",
       "26402       26402   -1            Private      Assoc-acdm           12.0   \n",
       "31411       31411   45   Self-emp-not-inc            11th            7.0   \n",
       "\n",
       "            marital-status        occupation    relationship    race      sex  \\\n",
       "7963         Never-married   Exec-managerial   Not-in-family   White   Female   \n",
       "26402   Married-civ-spouse      Craft-repair         Husband   White     Male   \n",
       "31411   Married-civ-spouse      Craft-repair         Husband   White     Male   \n",
       "\n",
       "       capital-gain  capital-loss  hours-per-week  native-country  \n",
       "7963            0.0           0.0            40.0   United-States  \n",
       "26402           0.0           0.0            66.0      Yugoslavia  \n",
       "31411           0.0           0.0            50.0   United-States  "
      ]
     },
     "execution_count": 99,
     "metadata": {},
     "output_type": "execute_result"
    }
   ],
   "source": [
    "X_train.head(3)"
   ]
  },
  {
   "cell_type": "code",
   "execution_count": 100,
   "id": "victorian-termination",
   "metadata": {},
   "outputs": [],
   "source": [
    "# Drop the clumn 'Unnamed 0'\n",
    "X_train = X_train.drop('Unnamed: 0', axis= 1)\n",
    "X_test = X_test.drop('Unnamed: 0', axis= 1)"
   ]
  },
  {
   "cell_type": "code",
   "execution_count": 101,
   "id": "operational-vermont",
   "metadata": {},
   "outputs": [
    {
     "data": {
      "text/plain": [
       "0.24623379495259418"
      ]
     },
     "execution_count": 101,
     "metadata": {},
     "output_type": "execute_result"
    }
   ],
   "source": [
    "# Check the percentage of various income categories in training set.\n",
    "y_train.mean()"
   ]
  },
  {
   "cell_type": "code",
   "execution_count": 103,
   "id": "unknown-privilege",
   "metadata": {},
   "outputs": [
    {
     "data": {
      "text/plain": [
       "''"
      ]
     },
     "execution_count": 103,
     "metadata": {},
     "output_type": "execute_result"
    },
    {
     "data": {
      "image/png": "[encoded data removed]",
      "text/plain": [
       "<Figure size 432x288 with 1 Axes>"
      ]
     },
     "metadata": {},
     "output_type": "display_data"
    }
   ],
   "source": [
    "# Show the frequency of people with different income category.\n",
    "y_counts = pd.Series(y_train).value_counts(normalize= True)\n",
    "plt.bar(['<=50K', '>50K'], y_counts.values, width= .2)\n",
    "plt.xlabel('Income Category')\n",
    "plt.ylabel('Frequency (in training set)')\n",
    "plt.title('Target Variable is Imbalanced.')\n",
    ";"
   ]
  },
  {
   "cell_type": "markdown",
   "id": "superior-biography",
   "metadata": {},
   "source": [
    "From the plot, we can see that the datast is an __inbalanced dataset__, where 25% are in the category of higher income - more than 50K per year. And the reset earn <=50K per annum."
   ]
  },
  {
   "cell_type": "code",
   "execution_count": 106,
   "id": "sorted-acceptance",
   "metadata": {},
   "outputs": [],
   "source": [
    "feats_num = ['age', 'education-num', 'capital-gain', 'capital-loss', 'hours-per-week']\n",
    "\n",
    "feats_cat = ['education_level', 'marital-status', 'native-country',\n",
    "             'occupation', 'race', 'relationship', 'sex', 'workclass']"
   ]
  },
  {
   "cell_type": "code",
   "execution_count": null,
   "id": "fixed-sailing",
   "metadata": {},
   "outputs": [],
   "source": []
  },
  {
   "cell_type": "markdown",
   "id": "spoken-aruba",
   "metadata": {},
   "source": [
    "## <font color='blue'>Preprocessing</font>"
   ]
  },
  {
   "cell_type": "markdown",
   "id": "entire-punishment",
   "metadata": {},
   "source": [
    "### Missing Values"
   ]
  },
  {
   "cell_type": "code",
   "execution_count": 105,
   "id": "worldwide-nickel",
   "metadata": {},
   "outputs": [
    {
     "data": {
      "text/plain": [
       "age                   0\n",
       "workclass             0\n",
       "education_level    3994\n",
       "education-num         0\n",
       "marital-status        0\n",
       "occupation            0\n",
       "relationship          0\n",
       "race                  0\n",
       "sex                   0\n",
       "capital-gain          0\n",
       "capital-loss          0\n",
       "hours-per-week        0\n",
       "native-country        0\n",
       "dtype: int64"
      ]
     },
     "execution_count": 105,
     "metadata": {},
     "output_type": "execute_result"
    }
   ],
   "source": [
    "X_train.isna().sum(axis= 0)"
   ]
  },
  {
   "cell_type": "markdown",
   "id": "civic-capital",
   "metadata": {},
   "source": [
    "There are missing values in the __education_level__ column; looking more closely, we see that the column __age__ contains missing data as well."
   ]
  },
  {
   "cell_type": "code",
   "execution_count": 23,
   "id": "taken-neighbor",
   "metadata": {},
   "outputs": [
    {
     "data": {
      "text/plain": [
       "<AxesSubplot:>"
      ]
     },
     "execution_count": 23,
     "metadata": {},
     "output_type": "execute_result"
    },
    {
     "data": {
      "image/png": "[encoded data removed]",
      "text/plain": [
       "<Figure size 432x288 with 1 Axes>"
      ]
     },
     "metadata": {},
     "output_type": "display_data"
    }
   ],
   "source": [
    "X_train['age'].hist(bins= 40)"
   ]
  },
  {
   "cell_type": "code",
   "execution_count": 24,
   "id": "central-telephone",
   "metadata": {},
   "outputs": [
    {
     "data": {
      "text/html": [
       "<div>\n",
       "<style scoped>\n",
       "    .dataframe tbody tr th:only-of-type {\n",
       "        vertical-align: middle;\n",
       "    }\n",
       "\n",
       "    .dataframe tbody tr th {\n",
       "        vertical-align: top;\n",
       "    }\n",
       "\n",
       "    .dataframe thead th {\n",
       "        text-align: right;\n",
       "    }\n",
       "</style>\n",
       "<table border=\"1\" class=\"dataframe\">\n",
       "  <thead>\n",
       "    <tr style=\"text-align: right;\">\n",
       "      <th></th>\n",
       "      <th>age</th>\n",
       "      <th>workclass</th>\n",
       "      <th>education_level</th>\n",
       "      <th>education-num</th>\n",
       "      <th>marital-status</th>\n",
       "      <th>occupation</th>\n",
       "      <th>relationship</th>\n",
       "      <th>race</th>\n",
       "      <th>sex</th>\n",
       "      <th>capital-gain</th>\n",
       "      <th>capital-loss</th>\n",
       "      <th>hours-per-week</th>\n",
       "      <th>native-country</th>\n",
       "    </tr>\n",
       "  </thead>\n",
       "  <tbody>\n",
       "    <tr>\n",
       "      <th>43867</th>\n",
       "      <td>-1</td>\n",
       "      <td>Private</td>\n",
       "      <td>Some-college</td>\n",
       "      <td>10.0</td>\n",
       "      <td>Married-civ-spouse</td>\n",
       "      <td>Transport-moving</td>\n",
       "      <td>Husband</td>\n",
       "      <td>White</td>\n",
       "      <td>Male</td>\n",
       "      <td>0.0</td>\n",
       "      <td>0.0</td>\n",
       "      <td>50.0</td>\n",
       "      <td>United-States</td>\n",
       "    </tr>\n",
       "    <tr>\n",
       "      <th>28449</th>\n",
       "      <td>-1</td>\n",
       "      <td>Private</td>\n",
       "      <td>Bachelors</td>\n",
       "      <td>13.0</td>\n",
       "      <td>Divorced</td>\n",
       "      <td>Other-service</td>\n",
       "      <td>Not-in-family</td>\n",
       "      <td>White</td>\n",
       "      <td>Female</td>\n",
       "      <td>0.0</td>\n",
       "      <td>0.0</td>\n",
       "      <td>35.0</td>\n",
       "      <td>United-States</td>\n",
       "    </tr>\n",
       "    <tr>\n",
       "      <th>43769</th>\n",
       "      <td>-1</td>\n",
       "      <td>Self-emp-not-inc</td>\n",
       "      <td>Some-college</td>\n",
       "      <td>10.0</td>\n",
       "      <td>Married-civ-spouse</td>\n",
       "      <td>Transport-moving</td>\n",
       "      <td>Husband</td>\n",
       "      <td>White</td>\n",
       "      <td>Male</td>\n",
       "      <td>0.0</td>\n",
       "      <td>0.0</td>\n",
       "      <td>55.0</td>\n",
       "      <td>United-States</td>\n",
       "    </tr>\n",
       "    <tr>\n",
       "      <th>22296</th>\n",
       "      <td>19</td>\n",
       "      <td>Private</td>\n",
       "      <td>Some-college</td>\n",
       "      <td>10.0</td>\n",
       "      <td>Never-married</td>\n",
       "      <td>Other-service</td>\n",
       "      <td>Own-child</td>\n",
       "      <td>White</td>\n",
       "      <td>Female</td>\n",
       "      <td>0.0</td>\n",
       "      <td>0.0</td>\n",
       "      <td>30.0</td>\n",
       "      <td>United-States</td>\n",
       "    </tr>\n",
       "    <tr>\n",
       "      <th>35148</th>\n",
       "      <td>-1</td>\n",
       "      <td>Self-emp-not-inc</td>\n",
       "      <td>Some-college</td>\n",
       "      <td>10.0</td>\n",
       "      <td>Married-civ-spouse</td>\n",
       "      <td>Craft-repair</td>\n",
       "      <td>Husband</td>\n",
       "      <td>White</td>\n",
       "      <td>Male</td>\n",
       "      <td>0.0</td>\n",
       "      <td>0.0</td>\n",
       "      <td>40.0</td>\n",
       "      <td>United-States</td>\n",
       "    </tr>\n",
       "  </tbody>\n",
       "</table>\n",
       "</div>"
      ],
      "text/plain": [
       "       age          workclass education_level  education-num  \\\n",
       "43867   -1            Private    Some-college           10.0   \n",
       "28449   -1            Private       Bachelors           13.0   \n",
       "43769   -1   Self-emp-not-inc    Some-college           10.0   \n",
       "22296   19            Private    Some-college           10.0   \n",
       "35148   -1   Self-emp-not-inc    Some-college           10.0   \n",
       "\n",
       "            marital-status         occupation    relationship    race  \\\n",
       "43867   Married-civ-spouse   Transport-moving         Husband   White   \n",
       "28449             Divorced      Other-service   Not-in-family   White   \n",
       "43769   Married-civ-spouse   Transport-moving         Husband   White   \n",
       "22296        Never-married      Other-service       Own-child   White   \n",
       "35148   Married-civ-spouse       Craft-repair         Husband   White   \n",
       "\n",
       "           sex  capital-gain  capital-loss  hours-per-week  native-country  \n",
       "43867     Male           0.0           0.0            50.0   United-States  \n",
       "28449   Female           0.0           0.0            35.0   United-States  \n",
       "43769     Male           0.0           0.0            55.0   United-States  \n",
       "22296   Female           0.0           0.0            30.0   United-States  \n",
       "35148     Male           0.0           0.0            40.0   United-States  "
      ]
     },
     "execution_count": 24,
     "metadata": {},
     "output_type": "execute_result"
    }
   ],
   "source": [
    "# Investigate individuals younger than 20.\n",
    "X_train.loc[X_train['age'] < 20].head()"
   ]
  },
  {
   "cell_type": "code",
   "execution_count": 16,
   "id": "third-charles",
   "metadata": {},
   "outputs": [
    {
     "data": {
      "text/plain": [
       "-1     2864\n",
       " 19     638\n",
       " 18     536\n",
       " 17     349\n",
       "Name: age, dtype: int64"
      ]
     },
     "execution_count": 16,
     "metadata": {},
     "output_type": "execute_result"
    }
   ],
   "source": [
    "# It seems that there are some people that their age is missing.\n",
    "# These values are encoded as `-1`.\n",
    "# We have to attend to that.\n",
    "X_train.loc[X_train['age'] < 20, 'age'].value_counts()"
   ]
  },
  {
   "cell_type": "code",
   "execution_count": null,
   "id": "christian-anthropology",
   "metadata": {},
   "outputs": [],
   "source": []
  },
  {
   "cell_type": "code",
   "execution_count": 46,
   "id": "practical-textbook",
   "metadata": {},
   "outputs": [
    {
     "data": {
      "text/plain": [
       " HS-grad         10489\n",
       " Some-college     7053\n",
       " Bachelors        5418\n",
       "NaN               3994\n",
       " Masters          1763\n",
       " Assoc-voc        1391\n",
       " 11th             1160\n",
       " Assoc-acdm       1077\n",
       " 10th              888\n",
       " 7th-8th           580\n",
       " Prof-school       552\n",
       " 9th               486\n",
       " 12th              405\n",
       " Doctorate         388\n",
       " 5th-6th           323\n",
       " 1st-4th           154\n",
       " Preschool          56\n",
       "Name: education_level, dtype: int64"
      ]
     },
     "execution_count": 46,
     "metadata": {},
     "output_type": "execute_result"
    }
   ],
   "source": [
    "X_train['education_level'].value_counts(dropna= False)"
   ]
  },
  {
   "cell_type": "markdown",
   "id": "hired-copying",
   "metadata": {},
   "source": [
    "### Skewed Data"
   ]
  },
  {
   "cell_type": "code",
   "execution_count": 103,
   "id": "convinced-excess",
   "metadata": {},
   "outputs": [],
   "source": [
    "def hist_plots(df, col, transformed = False):\n",
    "    # Create figure\n",
    "    fig = plt.figure(figsize = (12, 5));\n",
    "\n",
    "    # Skewed feature plotting\n",
    "    for i, kind in enumerate(['orig', 'limit'], start= 1):\n",
    "        ax = fig.add_subplot(1, 2, i)\n",
    "        ax.hist(df[col], bins = 25, color = '#00A0A0')\n",
    "        plot_title = 'original count'\n",
    "        if kind == 'limit':\n",
    "            plot_title = 'count limited to 2K for more visibility'\n",
    "\n",
    "        ax.set_title(plot_title, fontsize = 14)\n",
    "        ax.set_xlabel('')\n",
    "        ax.set_ylabel('Counts')\n",
    "        if kind == 'limit':\n",
    "            ax.set_ylim((0, 2000))\n",
    "            ax.set_yticks([0, 500, 1000, 1500, 2000])\n",
    "            ax.set_yticklabels([0, 500, 1000, 1500, \">2000\"])\n",
    "\n",
    "        sup_title = f'{col!r} Feature Distribution'\n",
    "        if transformed:\n",
    "            sup_title += ' (Log-transformed)'\n",
    "            fig.suptitle(sup_title, fontsize= 16, y= 1.03)\n",
    "        else:\n",
    "            sup_title += ' (Skewed Distributions)'\n",
    "            fig.suptitle(sup_title, fontsize= 16, y= 1.03)\n",
    "\n",
    "    fig.tight_layout()"
   ]
  },
  {
   "cell_type": "code",
   "execution_count": 104,
   "id": "indian-anger",
   "metadata": {},
   "outputs": [
    {
     "data": {
      "image/png": "[encoded data removed]",
      "text/plain": [
       "<Figure size 864x360 with 2 Axes>"
      ]
     },
     "metadata": {},
     "output_type": "display_data"
    }
   ],
   "source": [
    "hist_plots(X_train, 'capital-gain')"
   ]
  },
  {
   "cell_type": "code",
   "execution_count": 105,
   "id": "heard-avatar",
   "metadata": {},
   "outputs": [
    {
     "data": {
      "image/png": "[encoded data removed]",
      "text/plain": [
       "<Figure size 864x360 with 2 Axes>"
      ]
     },
     "metadata": {},
     "output_type": "display_data"
    }
   ],
   "source": [
    "hist_plots(X_train, 'capital-loss')"
   ]
  },
  {
   "cell_type": "code",
   "execution_count": 33,
   "id": "cooked-mentor",
   "metadata": {},
   "outputs": [
    {
     "data": {
      "text/plain": [
       "(0.0, 5013.0)"
      ]
     },
     "execution_count": 33,
     "metadata": {},
     "output_type": "execute_result"
    }
   ],
   "source": [
    "np.quantile(df['capital-gain'], q= .9), np.quantile(df['capital-gain'], q= .95)"
   ]
  },
  {
   "cell_type": "code",
   "execution_count": 37,
   "id": "minimal-seafood",
   "metadata": {},
   "outputs": [
    {
     "data": {
      "text/plain": [
       "(0.0, 1980.0)"
      ]
     },
     "execution_count": 37,
     "metadata": {},
     "output_type": "execute_result"
    }
   ],
   "source": [
    "np.quantile(df['capital-loss'], q= .95), np.quantile(df['capital-loss'], q= .99)"
   ]
  },
  {
   "cell_type": "code",
   "execution_count": null,
   "id": "external-chemistry",
   "metadata": {},
   "outputs": [],
   "source": []
  },
  {
   "cell_type": "code",
   "execution_count": null,
   "id": "infrared-expansion",
   "metadata": {},
   "outputs": [],
   "source": []
  },
  {
   "cell_type": "code",
   "execution_count": 107,
   "id": "isolated-authorization",
   "metadata": {},
   "outputs": [
    {
     "data": {
      "image/png": "[encoded data removed]",
      "text/plain": [
       "<Figure size 864x360 with 2 Axes>"
      ]
     },
     "metadata": {},
     "output_type": "display_data"
    }
   ],
   "source": [
    "# Transform the features to make them as normally distributed as possible.\n",
    "X_capital = X_train[['capital-gain', 'capital-loss']].copy()\n",
    "X_capital['capital-gain'] = np.log(X_capital['capital-gain'] + 1)\n",
    "X_capital['capital-loss'] = np.log(X_capital['capital-loss'] + 1)\n",
    "\n",
    "hist_plots(X_capital, 'capital-gain', transformed= True)"
   ]
  },
  {
   "cell_type": "code",
   "execution_count": 108,
   "id": "insured-flush",
   "metadata": {},
   "outputs": [
    {
     "data": {
      "image/png": "[encoded data removed]",
      "text/plain": [
       "<Figure size 864x360 with 2 Axes>"
      ]
     },
     "metadata": {},
     "output_type": "display_data"
    }
   ],
   "source": [
    "hist_plots(X_capital, 'capital-loss', transformed= True)"
   ]
  },
  {
   "cell_type": "code",
   "execution_count": null,
   "id": "mental-evidence",
   "metadata": {},
   "outputs": [],
   "source": []
  },
  {
   "cell_type": "markdown",
   "id": "deadly-bible",
   "metadata": {},
   "source": [
    "## Normalizing Numerical Features"
   ]
  },
  {
   "cell_type": "markdown",
   "id": "labeled-samuel",
   "metadata": {},
   "source": [
    "In addition to performing transformations on features that are highly skewed, it is often good practice to perform some type of scaling on numerical features. Applying a scaling to the data does not change the shape of each feature's distribution (such as 'capital-gain' or 'capital-loss' above); however, normalization ensures that each feature is treated equally when applying supervised learners. Note that once scaling is applied, observing the data in its raw form will no longer have the same original meaning, as exampled below."
   ]
  },
  {
   "cell_type": "code",
   "execution_count": 114,
   "id": "structural-school",
   "metadata": {},
   "outputs": [
    {
     "data": {
      "text/plain": [
       "array([[0.4109589 , 0.6       , 0.        , 0.        , 0.5       ],\n",
       "       [0.43835616, 0.53333333, 0.        , 0.        , 0.39795918],\n",
       "       [0.05479452, 0.66666667, 0.        , 0.        , 0.35714286],\n",
       "       [0.30136986, 0.86666667, 0.        , 0.45385675, 0.44897959],\n",
       "       [0.24657534, 0.6       , 0.        , 0.        , 0.5       ],\n",
       "       [0.31506849, 0.53333333, 0.        , 0.        , 0.39795918],\n",
       "       [0.05479452, 0.6       , 0.        , 0.        , 0.39795918],\n",
       "       [0.56164384, 0.4       , 0.        , 0.        , 0.39795918],\n",
       "       [0.10958904, 0.8       , 0.        , 0.        , 0.39795918],\n",
       "       [0.23287671, 0.8       , 0.        , 0.        , 0.37755102]])"
      ]
     },
     "execution_count": 114,
     "metadata": {},
     "output_type": "execute_result"
    }
   ],
   "source": [
    "# Initialize MinMaxScaler.\n",
    "scaler_max_min = MinMaxScaler() # default=(0, 1)\n",
    "feats_num = ['age', 'education-num', 'capital-gain', 'capital-loss', 'hours-per-week']\n",
    "\n",
    "X_train_num = X_train[feats_num]\n",
    "# Apply it to the features.\n",
    "X_train_num = scaler_max_min.fit_transform(X_train_num)\n",
    "\n",
    "# Show an example of a record with scaling applied\n",
    "X_train_num[:10]"
   ]
  },
  {
   "cell_type": "code",
   "execution_count": 117,
   "id": "smooth-structure",
   "metadata": {},
   "outputs": [
    {
     "data": {
      "text/html": [
       "<div>\n",
       "<style scoped>\n",
       "    .dataframe tbody tr th:only-of-type {\n",
       "        vertical-align: middle;\n",
       "    }\n",
       "\n",
       "    .dataframe tbody tr th {\n",
       "        vertical-align: top;\n",
       "    }\n",
       "\n",
       "    .dataframe thead th {\n",
       "        text-align: right;\n",
       "    }\n",
       "</style>\n",
       "<table border=\"1\" class=\"dataframe\">\n",
       "  <thead>\n",
       "    <tr style=\"text-align: right;\">\n",
       "      <th></th>\n",
       "      <th>age</th>\n",
       "      <th>education-num</th>\n",
       "      <th>capital-gain</th>\n",
       "      <th>capital-loss</th>\n",
       "      <th>hours-per-week</th>\n",
       "    </tr>\n",
       "  </thead>\n",
       "  <tbody>\n",
       "    <tr>\n",
       "      <th>0</th>\n",
       "      <td>0.410959</td>\n",
       "      <td>0.600000</td>\n",
       "      <td>0.0</td>\n",
       "      <td>0.0</td>\n",
       "      <td>0.500000</td>\n",
       "    </tr>\n",
       "    <tr>\n",
       "      <th>1</th>\n",
       "      <td>0.438356</td>\n",
       "      <td>0.533333</td>\n",
       "      <td>0.0</td>\n",
       "      <td>0.0</td>\n",
       "      <td>0.397959</td>\n",
       "    </tr>\n",
       "    <tr>\n",
       "      <th>2</th>\n",
       "      <td>0.054795</td>\n",
       "      <td>0.666667</td>\n",
       "      <td>0.0</td>\n",
       "      <td>0.0</td>\n",
       "      <td>0.357143</td>\n",
       "    </tr>\n",
       "  </tbody>\n",
       "</table>\n",
       "</div>"
      ],
      "text/plain": [
       "        age  education-num  capital-gain  capital-loss  hours-per-week\n",
       "0  0.410959       0.600000           0.0           0.0        0.500000\n",
       "1  0.438356       0.533333           0.0           0.0        0.397959\n",
       "2  0.054795       0.666667           0.0           0.0        0.357143"
      ]
     },
     "execution_count": 117,
     "metadata": {},
     "output_type": "execute_result"
    }
   ],
   "source": [
    "X_train_num = pd.DataFrame(X_train_num, columns= feats_num)\n",
    "X_train_num.head(3)"
   ]
  },
  {
   "cell_type": "code",
   "execution_count": null,
   "id": "taken-casino",
   "metadata": {},
   "outputs": [],
   "source": []
  },
  {
   "cell_type": "markdown",
   "id": "instructional-bubble",
   "metadata": {},
   "source": [
    "## Categorical Features: one-hot encoding"
   ]
  },
  {
   "cell_type": "code",
   "execution_count": 107,
   "id": "provincial-hanging",
   "metadata": {},
   "outputs": [],
   "source": [
    "# X_train_cat = pd.get_dummies(X_train[feats_cat])\n",
    "# X_train_clean = pd.concat([X_train_num, X_train_cat], axis= 1)"
   ]
  },
  {
   "cell_type": "code",
   "execution_count": 108,
   "id": "potential-replica",
   "metadata": {},
   "outputs": [],
   "source": [
    "# Preprocessing for numerical data.\n",
    "transformer_num = SimpleImputer(strategy= 'constant')\n",
    "\n",
    "# Preprocessing for categorical data.\n",
    "# First impute, then do one-hot-encoding.\n",
    "transformer_cat = Pipeline(steps= [\n",
    "    ('imputer_cat', SimpleImputer(strategy= 'most_frequent')),\n",
    "    ('onehot', OneHotEncoder(handle_unknown= 'ignore'))\n",
    "])\n",
    "\n",
    "# Bundle preprocessing for numerical and categorical data.\n",
    "transformer = ColumnTransformer(transformers= [\n",
    "    ('num', transformer_num, feats_num),\n",
    "    ('cat', transformer_cat, feats_cat)\n",
    "])"
   ]
  },
  {
   "cell_type": "code",
   "execution_count": 119,
   "id": "lined-depth",
   "metadata": {},
   "outputs": [],
   "source": [
    "# Instantiate the classifier.\n",
    "cls_rf = RandomForestClassifier(n_estimators= 500,\n",
    "                                max_features= .5,\n",
    "                                random_state= 0)"
   ]
  },
  {
   "cell_type": "code",
   "execution_count": 120,
   "id": "spread-homework",
   "metadata": {},
   "outputs": [],
   "source": [
    "# Bundle preprocessing and modeling code in a pipeline\n",
    "pipe = Pipeline(steps= [\n",
    "    ('transformer', transformer),\n",
    "    ('cls', cls_rf)\n",
    "])"
   ]
  },
  {
   "cell_type": "code",
   "execution_count": 121,
   "id": "labeled-generic",
   "metadata": {},
   "outputs": [],
   "source": [
    "# Preprocessing of training data, fit model \n",
    "pipe.fit(X_train, y_train)\n",
    "\n",
    "# Preprocessing of validation data, get predictions\n",
    "preds = pipe.predict(X_test)"
   ]
  },
  {
   "cell_type": "code",
   "execution_count": 122,
   "id": "fluid-hostel",
   "metadata": {},
   "outputs": [
    {
     "data": {
      "text/plain": [
       "array([1, 0, 0, ..., 0, 0, 0])"
      ]
     },
     "execution_count": 122,
     "metadata": {},
     "output_type": "execute_result"
    }
   ],
   "source": [
    "preds"
   ]
  },
  {
   "cell_type": "code",
   "execution_count": 123,
   "id": "biological-blood",
   "metadata": {},
   "outputs": [
    {
     "data": {
      "text/plain": [
       "array([[6200,  545],\n",
       "       [ 797, 1503]], dtype=int64)"
      ]
     },
     "execution_count": 123,
     "metadata": {},
     "output_type": "execute_result"
    }
   ],
   "source": [
    "confusion_matrix(y_test, preds)"
   ]
  },
  {
   "cell_type": "code",
   "execution_count": 124,
   "id": "fleet-savannah",
   "metadata": {},
   "outputs": [
    {
     "data": {
      "text/plain": [
       "0.8516307352128247"
      ]
     },
     "execution_count": 124,
     "metadata": {},
     "output_type": "execute_result"
    }
   ],
   "source": [
    "# Accuracy\n",
    "(preds == y_test).mean()"
   ]
  },
  {
   "cell_type": "markdown",
   "id": "responsible-range",
   "metadata": {},
   "source": [
    "At least, we beat the baseline/naive model."
   ]
  },
  {
   "cell_type": "code",
   "execution_count": null,
   "id": "powerful-maple",
   "metadata": {},
   "outputs": [],
   "source": []
  }
 ],
 "metadata": {
  "kernelspec": {
   "display_name": "Python 3",
   "language": "python",
   "name": "python3"
  },
  "language_info": {
   "codemirror_mode": {
    "name": "ipython",
    "version": 3
   },
   "file_extension": ".py",
   "mimetype": "text/x-python",
   "name": "python",
   "nbconvert_exporter": "python",
   "pygments_lexer": "ipython3",
   "version": "3.8.5"
  }
 },
 "nbformat": 4,
 "nbformat_minor": 5
}
